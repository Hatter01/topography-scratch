{
 "cells": [
  {
   "cell_type": "code",
   "execution_count": 42,
   "metadata": {},
   "outputs": [
    {
     "name": "stdout",
     "output_type": "stream",
     "text": [
      "X.shape (1000, 480, 640)\n"
     ]
    }
   ],
   "source": [
    "import tensorflow as tf\n",
    "from tensorflow.keras.optimizers import Adam\n",
    "from sklearn.model_selection import train_test_split\n",
    "from tensorflow.keras.models import Sequential\n",
    "from tensorflow.keras.layers import Dense, Flatten, Conv2D, MaxPool2D, Dropout\n",
    "from data_loader import load_dataset\n",
    "import numpy as np\n",
    "\n",
    "#DATASET\n",
    "X, y =  load_dataset()"
   ]
  },
  {
   "cell_type": "code",
   "execution_count": 43,
   "metadata": {},
   "outputs": [],
   "source": [
    "mask = ((y > 0.45) & (y < 0.55)) | (y < 0.05) | (y > 0.95)\n",
    "X = X[mask]\n",
    "y = y[mask]\n",
    "X_train, X_test, y_train, y_test = train_test_split(X, y, test_size=0.2, shuffle=True)"
   ]
  },
  {
   "cell_type": "code",
   "execution_count": 44,
   "metadata": {},
   "outputs": [
    {
     "name": "stdout",
     "output_type": "stream",
     "text": [
      "[0.   0.25 0.5  0.25] should be: [0.   0.25 0.5  0.25]\n",
      "Model: \"sequential_7\"\n",
      "_________________________________________________________________\n",
      " Layer (type)                Output Shape              Param #   \n",
      "=================================================================\n",
      " conv2d_43 (Conv2D)          (None, 478, 638, 32)      320       \n",
      "                                                                 \n",
      " conv2d_44 (Conv2D)          (None, 476, 636, 32)      9248      \n",
      "                                                                 \n",
      " max_pooling2d_20 (MaxPoolin  (None, 238, 318, 32)     0         \n",
      " g2D)                                                            \n",
      "                                                                 \n",
      " max_pooling2d_21 (MaxPoolin  (None, 119, 159, 32)     0         \n",
      " g2D)                                                            \n",
      "                                                                 \n",
      " conv2d_45 (Conv2D)          (None, 117, 157, 32)      9248      \n",
      "                                                                 \n",
      " conv2d_46 (Conv2D)          (None, 115, 155, 32)      9248      \n",
      "                                                                 \n",
      " max_pooling2d_22 (MaxPoolin  (None, 57, 77, 32)       0         \n",
      " g2D)                                                            \n",
      "                                                                 \n",
      " conv2d_47 (Conv2D)          (None, 55, 75, 16)        4624      \n",
      "                                                                 \n",
      " conv2d_48 (Conv2D)          (None, 53, 73, 16)        2320      \n",
      "                                                                 \n",
      " conv2d_49 (Conv2D)          (None, 51, 71, 16)        2320      \n",
      "                                                                 \n",
      " max_pooling2d_23 (MaxPoolin  (None, 25, 35, 16)       0         \n",
      " g2D)                                                            \n",
      "                                                                 \n",
      " conv2d_50 (Conv2D)          (None, 23, 33, 16)        2320      \n",
      "                                                                 \n",
      " conv2d_51 (Conv2D)          (None, 21, 31, 16)        2320      \n",
      "                                                                 \n",
      " conv2d_52 (Conv2D)          (None, 19, 29, 16)        2320      \n",
      "                                                                 \n",
      " max_pooling2d_24 (MaxPoolin  (None, 9, 14, 16)        0         \n",
      " g2D)                                                            \n",
      "                                                                 \n",
      " flatten_4 (Flatten)         (None, 2016)              0         \n",
      "                                                                 \n",
      " dense_10 (Dense)            (None, 8)                 16136     \n",
      "                                                                 \n",
      " dense_11 (Dense)            (None, 4)                 36        \n",
      "                                                                 \n",
      " dense_12 (Dense)            (None, 1)                 5         \n",
      "                                                                 \n",
      "=================================================================\n",
      "Total params: 60,465\n",
      "Trainable params: 60,465\n",
      "Non-trainable params: 0\n",
      "_________________________________________________________________\n"
     ]
    }
   ],
   "source": [
    "#NETWORK\n",
    "model = Sequential()\n",
    "model.add(Conv2D(input_shape=(480,640,1), filters=32, kernel_size=(3,3), activation=\"relu\"))\n",
    "model.add(Conv2D(filters=32, kernel_size=(3,3), activation=\"relu\"))\n",
    "model.add(MaxPool2D(pool_size=(2,2), strides=(2,2)))\n",
    "model.add(MaxPool2D(pool_size=(2,2), strides=(2,2)))\n",
    "\n",
    "model.add(Conv2D(filters=32, kernel_size=(3,3), activation=\"relu\"))\n",
    "model.add(Conv2D(filters=32, kernel_size=(3,3), activation=\"relu\"))\n",
    "model.add(MaxPool2D(pool_size=(2,2), strides=(2,2)))\n",
    "\n",
    "model.add(Conv2D(filters=16, kernel_size=(3,3), activation=\"relu\"))\n",
    "model.add(Conv2D(filters=16, kernel_size=(3,3), activation=\"relu\"))\n",
    "model.add(Conv2D(filters=16, kernel_size=(3,3), activation=\"relu\"))\n",
    "model.add(MaxPool2D(pool_size=(2,2), strides=(2,2)))\n",
    "\n",
    "model.add(Conv2D(filters=16, kernel_size=(3,3), activation=\"relu\"))\n",
    "model.add(Conv2D(filters=16, kernel_size=(3,3), activation=\"relu\"))\n",
    "model.add(Conv2D(filters=16, kernel_size=(3,3), activation=\"relu\"))\n",
    "model.add(MaxPool2D(pool_size=(2,2), strides=(2,2)))\n",
    "\n",
    "model.add(Flatten())\n",
    "model.add(Dense(units=8, activation=\"relu\"))\n",
    "model.add(Dense(units=4, activation=\"relu\"))\n",
    "model.add(Dense(units=1, activation=\"sigmoid\"))\n",
    "\n",
    "\n",
    "def loss_funtion(real_eps, eps_new):\n",
    "    x = tf.abs(real_eps - eps_new)\n",
    "    return tf.math.minimum(x, 1-x)\n",
    "\n",
    "\n",
    "def my_metric_fn(y_true, y_pred):\n",
    "    squared_difference = tf.square(y_true - y_pred)\n",
    "    return tf.reduce_mean(squared_difference, axis=-1)  # Note the `axis=-1`\n",
    "\n",
    "compare=loss_funtion(np.array([0,1,0.5, 0.25]), np.array([1,0.75, 1, 0.5]))\n",
    "print(compare.numpy(), \"should be: [0.   0.25 0.5  0.25]\")\n",
    "\n",
    "#COMPILATION\n",
    "model.compile(optimizer='adam', loss=loss_funtion, metrics=[tf.metrics.MeanSquaredError()])\n",
    "model.summary()\n",
    "\n"
   ]
  },
  {
   "cell_type": "code",
   "execution_count": 48,
   "metadata": {},
   "outputs": [
    {
     "name": "stdout",
     "output_type": "stream",
     "text": [
      "Epoch 1/5\n",
      "10/10 [==============================] - 28s 3s/step - loss: 0.0252 - mean_squared_error: 0.2279\n",
      "Epoch 2/5\n",
      "10/10 [==============================] - 27s 3s/step - loss: 0.0249 - mean_squared_error: 0.2293\n",
      "Epoch 3/5\n",
      "10/10 [==============================] - 40s 4s/step - loss: 0.0249 - mean_squared_error: 0.2294\n",
      "Epoch 4/5\n",
      "10/10 [==============================] - 31s 3s/step - loss: 0.0249 - mean_squared_error: 0.2294\n",
      "Epoch 5/5\n",
      "10/10 [==============================] - 29s 3s/step - loss: 0.0248 - mean_squared_error: 0.2294\n"
     ]
    }
   ],
   "source": [
    "#TRAIN THE MODEL\n",
    "hist = model.fit(X_train, y_train, epochs=5, batch_size = 16)"
   ]
  },
  {
   "cell_type": "code",
   "execution_count": 49,
   "metadata": {},
   "outputs": [
    {
     "name": "stdout",
     "output_type": "stream",
     "text": [
      "2/2 [==============================] - 1s 289ms/step\n"
     ]
    }
   ],
   "source": [
    "y_pred = model.predict(X_test)"
   ]
  },
  {
   "cell_type": "code",
   "execution_count": 50,
   "metadata": {},
   "outputs": [
    {
     "name": "stdout",
     "output_type": "stream",
     "text": [
      "0.02437372977733614\n"
     ]
    }
   ],
   "source": [
    "x = np.abs(y_pred.squeeze() - y_test)\n",
    "results = np.min([x,1-x], axis=0)\n",
    "print(np.average(results))"
   ]
  }
 ],
 "metadata": {
  "kernelspec": {
   "display_name": "topography-scratch",
   "language": "python",
   "name": "python3"
  },
  "language_info": {
   "codemirror_mode": {
    "name": "ipython",
    "version": 3
   },
   "file_extension": ".py",
   "mimetype": "text/x-python",
   "name": "python",
   "nbconvert_exporter": "python",
   "pygments_lexer": "ipython3",
   "version": "3.10.8"
  },
  "orig_nbformat": 4,
  "vscode": {
   "interpreter": {
    "hash": "a666215a575358906e48cd3f81d7ef609300c39200393f3e583d063775c167f5"
   }
  }
 },
 "nbformat": 4,
 "nbformat_minor": 2
}
